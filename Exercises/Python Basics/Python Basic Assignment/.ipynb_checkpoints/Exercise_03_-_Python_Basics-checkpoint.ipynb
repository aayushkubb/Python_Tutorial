{
 "cells": [
  {
   "cell_type": "markdown",
   "metadata": {},
   "source": [
    "\n",
    "# Python Basics\n",
    "## Exercise 03\n",
    "\n",
    "### If Statements\n",
    "\n",
    "#### Three is a Crowd\n",
    "- Make a list of names that includes at least four people.\n",
    "- Write an if test that prints a message about the room being crowded, if there are more than three people in your list.\n",
    "- Modify your list so that there are only two people in it. Use one of the methods for removing people from the list, don't just redefine the list.\n",
    "- Run your if test again. There should be no output this time, because there are less than three people in the list.\n",
    "- **Bonus:** Store your if test in a function called something like `crowd_test`."
   ]
  },
  {
   "cell_type": "code",
   "execution_count": 10,
   "metadata": {},
   "outputs": [
    {
     "name": "stdout",
     "output_type": "stream",
     "text": [
      "Crowded\n",
      "not crowded\n"
     ]
    }
   ],
   "source": [
    "names=['ram','sham','sudhir','akki']\n",
    "\n",
    "\n",
    "test(names)\n",
    "def test(names):\n",
    "    print(\"Crowded\" if len(names)>3 else \"not crowded\")\n",
    "\n",
    "names.pop(0)\n",
    "names.pop(0)\n",
    "test(names)"
   ]
  },
  {
   "cell_type": "markdown",
   "metadata": {},
   "source": [
    "#### Three is a Crowd - Part 2\n",
    "- Save your program from *Three is a Crowd* under a new name.\n",
    "- Add an `else` statement to your if tests. If the `else` statement is run, have it print a message that the room is not very crowded."
   ]
  },
  {
   "cell_type": "code",
   "execution_count": 16,
   "metadata": {},
   "outputs": [
    {
     "name": "stdout",
     "output_type": "stream",
     "text": [
      " Three is a Crowd \n",
      "Not very Crowded\n"
     ]
    }
   ],
   "source": [
    "names=['ram','sham','sudhir','akki']\n",
    "def crowd_test(data):\n",
    "    print(\" Three is a Crowd \" if len(data)>3 else \"Not very Crowded\")\n",
    "\n",
    "names.append(\"lam\")\n",
    "names.append(\"dam\")\n",
    "names.append(\"tram\")\n",
    "\n",
    "crowd_test(names)\n",
    "names.pop()\n",
    "names.pop()\n",
    "names.pop()\n",
    "\n",
    "names.pop()\n",
    "\n",
    "names.pop()\n",
    "\n",
    "names.pop()\n",
    "\n",
    "names.pop()\n",
    "crowd_test(names)\n"
   ]
  },
  {
   "cell_type": "markdown",
   "metadata": {},
   "source": [
    "#### Six is a Mob\n",
    "- Save your program from *Three is a Crowd - Part 2* under a new name.\n",
    "- Add some names to your list, so that there are at least six people in the list.\n",
    "- Modify your tests so that\n",
    "    - If there are more than 5 people, a message is printed about there being a mob in the room.\n",
    "    - If there are 3-5 people, a message is printed about the room being crowded.\n",
    "    - If there are 1 or 2 people, a message is printed about the room not being crowded.\n",
    "    - If there are no people in the room, a message is printed abou the room being empty."
   ]
  },
  {
   "cell_type": "code",
   "execution_count": 1,
   "metadata": {
    "collapsed": true
   },
   "outputs": [],
   "source": [
    "#YOUR CODE HERE"
   ]
  },
  {
   "cell_type": "code",
   "execution_count": 17,
   "metadata": {},
   "outputs": [
    {
     "name": "stdout",
     "output_type": "stream",
     "text": [
      " crowded\n",
      "no crowd\n",
      "empty\n"
     ]
    }
   ],
   "source": [
    "def check(names):\n",
    "    if len(names) > 5:\n",
    "        print(\"mob\")\n",
    "    elif len(names) >3:\n",
    "        print(\" crowded\")\n",
    "    elif len(names)>1:\n",
    "        print(\"no crowd\")\n",
    "    else:\n",
    "        print(\"empty\")\n",
    "    \n",
    "n1=['ram','sham','nam','tyam']\n",
    "n2=['ram','tyam']\n",
    "n3=[]\n",
    "check(n1)\n",
    "check(n2)\n",
    "check(n3)"
   ]
  }
 ],
 "metadata": {
  "anaconda-cloud": {},
  "kernelspec": {
   "display_name": "Python 3",
   "language": "python",
   "name": "python3"
  },
  "language_info": {
   "codemirror_mode": {
    "name": "ipython",
    "version": 3
   },
   "file_extension": ".py",
   "mimetype": "text/x-python",
   "name": "python",
   "nbconvert_exporter": "python",
   "pygments_lexer": "ipython3",
   "version": "3.8.8"
  },
  "toc": {
   "base_numbering": 1,
   "nav_menu": {},
   "number_sections": true,
   "sideBar": true,
   "skip_h1_title": false,
   "title_cell": "Table of Contents",
   "title_sidebar": "Contents",
   "toc_cell": false,
   "toc_position": {},
   "toc_section_display": true,
   "toc_window_display": false
  }
 },
 "nbformat": 4,
 "nbformat_minor": 1
}
