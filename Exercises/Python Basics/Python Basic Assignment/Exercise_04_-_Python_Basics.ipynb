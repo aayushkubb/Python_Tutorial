{
 "cells": [
  {
   "cell_type": "markdown",
   "metadata": {},
   "source": [
    "\n",
    "# Python Basics 02\n",
    "## Exercise 04\n",
    "\n",
    "### Introducing Functions\n",
    "\n",
    "#### Greeter\n",
    "- Write a function that takes in a person's name, and prints out a greeting.\n",
    "    - The greeting must be at least three lines, and the person's name must be in each line.\n",
    "- Use your function to greet at least three different people.\n",
    "- **Bonus:** Store your three people in a list, and call your function from a `for` loop."
   ]
  },
  {
   "cell_type": "code",
   "execution_count": null,
   "metadata": {},
   "outputs": [],
   "source": [
    "def welcome(name):\n",
    "    print(\"Welcome on board \"+name)\n",
    "# print(welcome(input(\"Enter your name\")))\n",
    "\n",
    "name=[input(\"First: \"),input(\"Second: \"),input(\"Third: \")]\n",
    "# name=['h','s']\n",
    "for i in name:\n",
    "    welcome(i)"
   ]
  },
  {
   "cell_type": "markdown",
   "metadata": {},
   "source": [
    "#### Full Names\n",
    "- Write a function that takes in a first name and a last name, and prints out a nicely formatted full name, in a sentence. Your sentence could be as simple as, \"Hello, *full\\_name*.\"\n",
    "- Call your function three times, with a different name each time."
   ]
  },
  {
   "cell_type": "code",
   "execution_count": null,
   "metadata": {},
   "outputs": [],
   "source": [
    "def call():\n",
    "    f_name=input(\"f_name\")\n",
    "    s_name=input(\"s_name\")\n",
    "    print(\"Hello \"+f_name+\" \"+s_name)\n",
    "\n",
    "for i in range(3):\n",
    "    call()"
   ]
  },
  {
   "cell_type": "markdown",
   "metadata": {},
   "source": [
    "#### Addition Calculator\n",
    "- Write a function that takes in two numbers, and adds them together. Make your function print out a sentence showing the two numbers, and the result.\n",
    "- Call your function with three different sets of numbers."
   ]
  },
  {
   "cell_type": "code",
   "execution_count": 7,
   "metadata": {},
   "outputs": [
    {
     "name": "stdout",
     "output_type": "stream",
     "text": [
      "f_num1\n",
      "s_num2\n",
      "f numer is 1second num is2sum is: 3\n",
      "f_num1\n",
      "s_num4\n",
      "f numer is 1second num is4sum is: 5\n",
      "f_num6\n",
      "s_num8\n",
      "f numer is 6second num is8sum is: 14\n"
     ]
    }
   ],
   "source": [
    "def calc(num1,num2):\n",
    "    print(\"f numer is \"+str(num1) +\"second num is\"+str(num2) +\"sum is: \"+str(num1+num2))\n",
    "\n",
    "for i in range(0,3):\n",
    "    num1=int(input(\"f_num\"))\n",
    "    num2=int(input(\"s_num\"))\n",
    "    calc(num1,num2)\n",
    "\n"
   ]
  },
  {
   "cell_type": "markdown",
   "metadata": {},
   "source": [
    "#### Return Calculator\n",
    "- Modify *Addition Calculator* so that your function returns the sum of the two numbers. The printing should happen outside of the function."
   ]
  },
  {
   "cell_type": "code",
   "execution_count": 8,
   "metadata": {},
   "outputs": [
    {
     "name": "stdout",
     "output_type": "stream",
     "text": [
      "the result of 3 and 5 is 8\n"
     ]
    }
   ],
   "source": [
    "#YOUR CODE HERE\n",
    "#return calculator\n",
    "\n",
    "def addition(first_number,second_number):\n",
    "    result = first_number + second_number\n",
    "    return result\n",
    "   \n",
    "    \n",
    "result_variable=addition(3,5)\n",
    "print(\"the result of 3 and 5 is %d\" %result_variable)\n"
   ]
  }
 ],
 "metadata": {
  "anaconda-cloud": {},
  "kernelspec": {
   "display_name": "Python 3",
   "language": "python",
   "name": "python3"
  },
  "language_info": {
   "codemirror_mode": {
    "name": "ipython",
    "version": 3
   },
   "file_extension": ".py",
   "mimetype": "text/x-python",
   "name": "python",
   "nbconvert_exporter": "python",
   "pygments_lexer": "ipython3",
   "version": "3.7.4"
  },
  "toc": {
   "base_numbering": 1,
   "nav_menu": {},
   "number_sections": true,
   "sideBar": true,
   "skip_h1_title": false,
   "title_cell": "Table of Contents",
   "title_sidebar": "Contents",
   "toc_cell": false,
   "toc_position": {},
   "toc_section_display": true,
   "toc_window_display": false
  }
 },
 "nbformat": 4,
 "nbformat_minor": 1
}
