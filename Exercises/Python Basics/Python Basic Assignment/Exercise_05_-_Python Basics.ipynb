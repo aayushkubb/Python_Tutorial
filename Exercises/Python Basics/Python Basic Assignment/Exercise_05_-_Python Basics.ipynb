{
 "cells": [
  {
   "cell_type": "markdown",
   "metadata": {},
   "source": [
    "# Python Basics\n",
    "## Exercise 05\n"
   ]
  },
  {
   "cell_type": "markdown",
   "metadata": {},
   "source": [
    "### Question 1\n",
    "\n",
    "Given the following dictionary:"
   ]
  },
  {
   "cell_type": "code",
   "execution_count": 115,
   "metadata": {},
   "outputs": [
    {
     "data": {
      "text/plain": [
       "{'backpack': ['xylophone', 'dagger', 'bedroll', 'bread loaf'],\n",
       " 'gold': 500,\n",
       " 'pouch': ['flint', 'twine', 'gemstone']}"
      ]
     },
     "execution_count": 115,
     "metadata": {},
     "output_type": "execute_result"
    }
   ],
   "source": [
    "\n",
    "inventory = {\n",
    "    'gold' : 500,\n",
    "    'pouch' : ['flint', 'twine', 'gemstone'],\n",
    "    'backpack' : ['xylophone','dagger', 'bedroll','bread loaf']\n",
    "}\n",
    "inventory"
   ]
  },
  {
   "cell_type": "markdown",
   "metadata": {},
   "source": [
    "Try to do the following:\n",
    "\n",
    "Add a key to inventory called 'pocket'.\n",
    "\n",
    "Set the value of 'pocket' to be a list consisting of the strings 'seashell', 'strange berry', and 'lint'.\n",
    "\n",
    "sort()the items in the list stored under the 'backpack' key.\n",
    "\n",
    "Then .remove('dagger') from the list of items stored under the 'backpack' key.\n",
    "\n",
    "Add 50 to the number stored under the 'gold' key."
   ]
  },
  {
   "cell_type": "code",
   "execution_count": 116,
   "metadata": {},
   "outputs": [
    {
     "data": {
      "text/plain": [
       "{'backpack': ['bedroll', 'bread loaf', 'xylophone'],\n",
       " 'gold': 550,\n",
       " 'pocket': ['seashell', 'strange berry', 'lint'],\n",
       " 'pouch': ['flint', 'twine', 'gemstone']}"
      ]
     },
     "execution_count": 116,
     "metadata": {},
     "output_type": "execute_result"
    }
   ],
   "source": [
    "inventory['pocket']=['seashell', 'strange berry',  'lint']\n",
    "inventory\n",
    "\n",
    "inventory['backpack'].sort()\n",
    "inventory['backpack'].remove('dagger')\n",
    "\n",
    "inventory['gold']=inventory['gold']+50\n",
    "\n",
    "inventory"
   ]
  },
  {
   "cell_type": "code",
   "execution_count": 117,
   "metadata": {
    "collapsed": true
   },
   "outputs": [],
   "source": [
    "#Your Code here"
   ]
  },
  {
   "cell_type": "markdown",
   "metadata": {},
   "source": [
    "### Question 2\n",
    "\n",
    "Folow the steps below:\n",
    "\n",
    "Create two new dictionaries called prices and stocks using {} format like the example above.\n",
    "\n",
    "Put these values in your prices dictionary:\n",
    "\n",
    "\"banana\": 4,\n",
    "\n",
    "\"apple\": 2,\n",
    "\n",
    "\"orange\": 1.5,\n",
    "\n",
    "\"pear\": 3\n",
    "\n",
    "Put these values in your stocks dictionary:\n",
    "\n",
    "\"banana\": 12,\n",
    "\n",
    "\"apple\": 24,\n",
    "\n",
    "\"orange\": 15,\n",
    "\n",
    "\"pear\": 35\n",
    "\n",
    "Loop through each key in prices.\n",
    "For each key, print out the key along with its price and stock information.\n",
    "Print the answer in the following format:\n",
    "\n",
    "apple\n",
    "\n",
    "price: 2\n",
    "\n",
    "stock: 0"
   ]
  },
  {
   "cell_type": "code",
   "execution_count": 118,
   "metadata": {},
   "outputs": [
    {
     "name": "stdout",
     "output_type": "stream",
     "text": [
      "banana\n",
      "price: 4\n",
      "stock: 12\n",
      "apple\n",
      "price: 2\n",
      "stock: 24\n",
      "orange\n",
      "price: 1.5\n",
      "stock: 15\n",
      "pear\n",
      "price: 3\n",
      "stock: 35\n"
     ]
    }
   ],
   "source": [
    "#Your Code here\n",
    "price={\"banana\": 4,\n",
    "\"apple\": 2,\n",
    "\"orange\": 1.5,\n",
    "\"pear\": 3}\n",
    "\n",
    "\n",
    "stock={\"banana\": 12,\n",
    "\"apple\": 24,\n",
    "\"orange\": 15,\n",
    "\"pear\": 35}\n",
    "\n",
    "price[\"apple\"]\n",
    "for i in price:\n",
    "    print(i)\n",
    "    print(\"price: \"+str(price[i]))\n",
    "    print(\"stock: \"+str(stock[i]))\n",
    "    "
   ]
  },
  {
   "cell_type": "markdown",
   "metadata": {},
   "source": [
    "Let's determine how much money you would make if you sold all of your food.\n",
    "\n",
    "Create a variable called total and set it to zero.\n",
    "\n",
    "Loop through the prices dictionaries.For each key in prices, multiply the number in prices by the number in stock.\n",
    "\n",
    "Print that value into the console and then add it to total.\n",
    "\n",
    "Finally, outside your loop, print total."
   ]
  },
  {
   "cell_type": "code",
   "execution_count": 119,
   "metadata": {},
   "outputs": [
    {
     "name": "stdout",
     "output_type": "stream",
     "text": [
      "\n",
      "\n",
      "\n",
      "\n",
      "223.5\n"
     ]
    }
   ],
   "source": [
    "total=0\n",
    "\n",
    "for i in price:\n",
    "    print()\n",
    "    total=total+(price[i]*stock[i])\n",
    "    \n",
    "print(total)"
   ]
  },
  {
   "cell_type": "markdown",
   "metadata": {},
   "source": [
    "### Question 3\n",
    "\n",
    "Follow the steps:\n",
    "\n",
    "First, make a list called groceries with the values \"banana\",\"orange\", and \"apple\".\n",
    "\n",
    "Define this two dictionaries:\n",
    "\n",
    "stock = {\n",
    "    \"banana\": 6,\n",
    "    \"apple\": 0,\n",
    "    \"orange\": 32,\n",
    "    \"pear\": 15\n",
    "}\n",
    "\n",
    "prices = {\n",
    "    \"banana\": 4,\n",
    "    \"apple\": 2,\n",
    "    \"orange\": 1.5,\n",
    "    \"pear\": 3\n",
    "}\n",
    "\n",
    "Define a function compute_bill that takes one argument food as input. \n",
    "In the function, create a variable total with an initial value of zero.\n",
    "For each item in the food list, add the price of that item to total. \n",
    "Finally, return the total. \n",
    "Ignore whether or not the item you're billing for is in stock.\n",
    "Note that your function should work for any food list.\n",
    "\n",
    "Make the following changes to your compute_bill function:\n",
    "\n",
    "While you loop through each item of food, only add the price of the item to total if the item's stock count is greater than zero.\n",
    "\n",
    "If the item is in stock and after you add the price to the total, subtract one from the item's stock count."
   ]
  },
  {
   "cell_type": "code",
   "execution_count": 120,
   "metadata": {
    "collapsed": true
   },
   "outputs": [],
   "source": [
    "stock = { \"banana\": 6, \"apple\": 0, \"orange\": 32, \"pear\": 15 }\n",
    "prices = { \"banana\": 4, \"apple\": 2, \"orange\": 1.5, \"pear\": 3 }\n",
    "grocries=[\"banana\",\"orange\", \"apple\"]"
   ]
  },
  {
   "cell_type": "code",
   "execution_count": 121,
   "metadata": {},
   "outputs": [
    {
     "data": {
      "text/plain": [
       "7.5"
      ]
     },
     "execution_count": 121,
     "metadata": {},
     "output_type": "execute_result"
    }
   ],
   "source": [
    "#Your Code here\n",
    "def compute_bill(food):\n",
    "    total=0\n",
    "    for i in food:\n",
    "        total=total+prices[i]\n",
    "    return total\n",
    "compute_bill(grocries)"
   ]
  },
  {
   "cell_type": "code",
   "execution_count": 122,
   "metadata": {
    "collapsed": true
   },
   "outputs": [],
   "source": [
    "#Your Code here\n",
    "def compute_bill(food):\n",
    "    total=0\n",
    "    for i in food:\n",
    "        if stock[i]>0:\n",
    "            total=total+prices[i]\n",
    "            stock[i]=stock[i]-1\n",
    "            \n",
    "    return total"
   ]
  },
  {
   "cell_type": "code",
   "execution_count": 123,
   "metadata": {},
   "outputs": [
    {
     "data": {
      "text/plain": [
       "5.5"
      ]
     },
     "execution_count": 123,
     "metadata": {},
     "output_type": "execute_result"
    }
   ],
   "source": [
    "compute_bill(grocries)"
   ]
  },
  {
   "cell_type": "code",
   "execution_count": 129,
   "metadata": {},
   "outputs": [
    {
     "data": {
      "text/plain": [
       "1.5"
      ]
     },
     "execution_count": 129,
     "metadata": {},
     "output_type": "execute_result"
    }
   ],
   "source": [
    "#After few runs\n",
    "compute_bill(grocries)\n"
   ]
  }
 ],
 "metadata": {
  "kernelspec": {
   "display_name": "Python 3",
   "language": "python",
   "name": "python3"
  },
  "language_info": {
   "codemirror_mode": {
    "name": "ipython",
    "version": 3
   },
   "file_extension": ".py",
   "mimetype": "text/x-python",
   "name": "python",
   "nbconvert_exporter": "python",
   "pygments_lexer": "ipython3",
   "version": "3.7.4"
  },
  "toc": {
   "base_numbering": 1,
   "nav_menu": {},
   "number_sections": true,
   "sideBar": true,
   "skip_h1_title": false,
   "title_cell": "Table of Contents",
   "title_sidebar": "Contents",
   "toc_cell": false,
   "toc_position": {},
   "toc_section_display": true,
   "toc_window_display": false
  }
 },
 "nbformat": 4,
 "nbformat_minor": 1
}
