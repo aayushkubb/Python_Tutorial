{
 "cells": [
  {
   "cell_type": "markdown",
   "metadata": {},
   "source": [
    "\n",
    "# Python Basics 02\n",
    "## Exercise 04\n",
    "\n",
    "### Introducing Functions\n",
    "\n",
    "#### Greeter\n",
    "- Write a function that takes in a person's name, and prints out a greeting.\n",
    "    - The greeting must be at least three lines, and the person's name must be in each line.\n",
    "- Use your function to greet at least three different people.\n",
    "- **Bonus:** Store your three people in a list, and call your function from a `for` loop."
   ]
  },
  {
   "cell_type": "code",
   "execution_count": 4,
   "metadata": {},
   "outputs": [
    {
     "name": "stdout",
     "output_type": "stream",
     "text": [
      "welcome ram\n",
      "You are awesome ram\n",
      "ok bye ram\n",
      "welcome sham\n",
      "You are awesome sham\n",
      "ok bye sham\n",
      "welcome aayush\n",
      "You are awesome aayush\n",
      "ok bye aayush\n"
     ]
    }
   ],
   "source": [
    "def greeting(name):\n",
    "    print(\"welcome \" + str(name))\n",
    "    print(\"You are awesome \" + str(name))\n",
    "    print(\"ok bye \" + str(name))\n",
    "\n",
    "#greeting(\"Aayush\")\n",
    "\n",
    "name=['ram','sham','aayush']\n",
    "\n",
    "for i in name:\n",
    "    greeting(i)"
   ]
  },
  {
   "cell_type": "code",
   "execution_count": 8,
   "metadata": {
    "scrolled": false
   },
   "outputs": [
    {
     "name": "stdout",
     "output_type": "stream",
     "text": [
      "Hello Adam!\n",
      "Wish you a great day ahead, Adam.\n",
      "Adam, how can I help you?\n",
      "Hello Usashi!\n",
      "Wish you a great day ahead, Usashi.\n",
      "Usashi, how can I help you?\n",
      "Hello John!\n",
      "Wish you a great day ahead, John.\n",
      "John, how can I help you?\n",
      "Hello Adam!\n",
      "Wish you a great day ahead, Adam.\n",
      "Adam, how can I help you?\n",
      "Hello Usashi!\n",
      "Wish you a great day ahead, Usashi.\n",
      "Usashi, how can I help you?\n",
      "Hello John!\n",
      "Wish you a great day ahead, John.\n",
      "John, how can I help you?\n"
     ]
    }
   ],
   "source": [
    "#Solution\n",
    "#Greeter solution\n",
    "\n",
    "def greeter(person_name):\n",
    "    print(\"Hello %s!\" % person_name)\n",
    "    print(\"Wish you a great day ahead, %s.\" % person_name)\n",
    "    print(\"%s, how can I help you?\"% person_name )\n",
    "    \n",
    "greeter('Adam')\n",
    "greeter('Usashi')\n",
    "greeter('John')\n",
    "\n",
    "\n",
    "#greeter bonus solution\n",
    "\n",
    "names =['Adam','Usashi','John']\n",
    "\n",
    "def greeter(person_name):\n",
    "    print(\"Hello %s!\" % person_name)\n",
    "    print(\"Wish you a great day ahead, %s.\" % person_name)\n",
    "    print(\"%s, how can I help you?\"% person_name )\n",
    "    \n",
    "for name in names:\n",
    "    greeter(name)"
   ]
  },
  {
   "cell_type": "markdown",
   "metadata": {},
   "source": [
    "#### Full Names\n",
    "- Write a function that takes in a first name and a last name, and prints out a nicely formatted full name, in a sentence. Your sentence could be as simple as, \"Hello, *full\\_name*.\"\n",
    "- Call your function three times, with a different name each time."
   ]
  },
  {
   "cell_type": "code",
   "execution_count": 5,
   "metadata": {},
   "outputs": [
    {
     "name": "stdout",
     "output_type": "stream",
     "text": [
      "Hello, Aayush Kubba\n"
     ]
    }
   ],
   "source": [
    "def name(f,l):\n",
    "    print(\"Hello, \"+f+\" \"+l)\n",
    "    \n",
    "name(\"Aayush\",\"Kubba\")\n",
    "\n",
    "\n"
   ]
  },
  {
   "cell_type": "code",
   "execution_count": 9,
   "metadata": {},
   "outputs": [
    {
     "name": "stdout",
     "output_type": "stream",
     "text": [
      "Hello Nigrah Bamb.\n",
      "Hello Vipul Tiwari.\n",
      "Hello Farha khan.\n"
     ]
    }
   ],
   "source": [
    "#SOLUTION\n",
    "#Full names solution\n",
    "\n",
    "def full_name(first_name,second_name):\n",
    "    #to use %s two times :\n",
    "    print(\"Hello %s %s.\" %(first_name,second_name))\n",
    "    \n",
    "full_name('Nigrah','Bamb')\n",
    "full_name('Vipul','Tiwari')\n",
    "full_name('Farha','khan')"
   ]
  },
  {
   "cell_type": "markdown",
   "metadata": {},
   "source": [
    "#### Addition Calculator\n",
    "- Write a function that takes in two numbers, and adds them together. Make your function print out a sentence showing the two numbers, and the result.\n",
    "- Call your function with three different sets of numbers."
   ]
  },
  {
   "cell_type": "code",
   "execution_count": 13,
   "metadata": {},
   "outputs": [
    {
     "name": "stdout",
     "output_type": "stream",
     "text": [
      "3\n",
      "6\n",
      "15\n"
     ]
    }
   ],
   "source": [
    "def sums(n1,n2):\n",
    "    print(n1+n2)\n",
    "    \n",
    "sums(1,2)\n",
    "sums(2,4)\n",
    "sums(7,8)"
   ]
  },
  {
   "cell_type": "code",
   "execution_count": null,
   "metadata": {
    "collapsed": true
   },
   "outputs": [],
   "source": [
    "\n",
    "#SOLUTION\n",
    "\n",
    "#addition\n",
    "\n",
    "def addition(first_number,second_number):\n",
    "    result = first_number + second_number\n",
    "    print(\"The addition of %d and %d is %d\" %(first_number,second_number,result))\n",
    "    \n",
    "addition(3,5)\n",
    "addition(2,7)\n",
    "addition(1,5)\n"
   ]
  },
  {
   "cell_type": "markdown",
   "metadata": {},
   "source": [
    "#### Return Calculator\n",
    "- Modify *Addition Calculator* so that your function returns the sum of the two numbers. The printing should happen outside of the function."
   ]
  },
  {
   "cell_type": "code",
   "execution_count": 14,
   "metadata": {},
   "outputs": [
    {
     "name": "stdout",
     "output_type": "stream",
     "text": [
      "3\n"
     ]
    }
   ],
   "source": [
    "def sums(n1,n2):\n",
    "    return (n1+n2)\n",
    "\n",
    "x=sums(1,2)\n",
    "print(x)"
   ]
  },
  {
   "cell_type": "code",
   "execution_count": 2,
   "metadata": {},
   "outputs": [
    {
     "name": "stdout",
     "output_type": "stream",
     "text": [
      "the result of 3 and 5 is 8\n"
     ]
    }
   ],
   "source": [
    "#return calculator\n",
    "\n",
    "def addition(first_number,second_number):\n",
    "    result = first_number + second_number\n",
    "    return result\n",
    "   \n",
    "    \n",
    "result_variable=addition(3,5)\n",
    "print(\"the result of 3 and 5 is %d\" %result_variable)\n"
   ]
  },
  {
   "cell_type": "code",
   "execution_count": null,
   "metadata": {
    "collapsed": true
   },
   "outputs": [],
   "source": []
  }
 ],
 "metadata": {
  "anaconda-cloud": {},
  "kernelspec": {
   "display_name": "Python 3",
   "language": "python",
   "name": "python3"
  },
  "language_info": {
   "codemirror_mode": {
    "name": "ipython",
    "version": 3
   },
   "file_extension": ".py",
   "mimetype": "text/x-python",
   "name": "python",
   "nbconvert_exporter": "python",
   "pygments_lexer": "ipython3",
   "version": "3.8.8"
  },
  "toc": {
   "base_numbering": 1,
   "nav_menu": {},
   "number_sections": true,
   "sideBar": true,
   "skip_h1_title": false,
   "title_cell": "Table of Contents",
   "title_sidebar": "Contents",
   "toc_cell": false,
   "toc_position": {},
   "toc_section_display": true,
   "toc_window_display": false
  }
 },
 "nbformat": 4,
 "nbformat_minor": 1
}
