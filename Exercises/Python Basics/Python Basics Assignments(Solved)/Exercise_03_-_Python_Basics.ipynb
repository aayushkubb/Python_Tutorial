{
 "cells": [
  {
   "cell_type": "markdown",
   "metadata": {},
   "source": [
    "\n",
    "# Python Basics\n",
    "## Exercise 03\n",
    "\n",
    "### If Statements\n",
    "\n",
    "#### Three is a Crowd\n",
    "- Make a list of names that includes at least four people.\n",
    "- Write an if test that prints a message about the room being crowded, if there are more than three people in your list.\n",
    "- Modify your list so that there are only two people in it. Use one of the methods for removing people from the list, don't just redefine the list.\n",
    "- Run your if test again. There should be no output this time, because there are less than three people in the list.\n",
    "- **Bonus:** Store your if test in a function called something like `crowd_test`."
   ]
  },
  {
   "cell_type": "code",
   "execution_count": 22,
   "metadata": {},
   "outputs": [
    {
     "name": "stdout",
     "output_type": "stream",
     "text": [
      "croeded\n",
      "['nam', 'tyam']\n",
      "croeded_!\n"
     ]
    }
   ],
   "source": [
    "names=['ram','sham','nam','tyam']\n",
    "if len(names) > 3:\n",
    "    print(\"croeded\")\n",
    "\n",
    "names.pop(1)\n",
    "names.remove('ram')\n",
    "\n",
    "print(names)\n",
    "\n",
    "def check(names):\n",
    "    if len(names) > 3:\n",
    "        print(\"croeded_!\")\n",
    "        \n",
    "names1=['ram','sham','nam','tyam']  \n",
    "check(names1)"
   ]
  },
  {
   "cell_type": "code",
   "execution_count": 1,
   "metadata": {},
   "outputs": [
    {
     "name": "stdout",
     "output_type": "stream",
     "text": [
      "The room is crowded!\n"
     ]
    }
   ],
   "source": [
    "#SOLUTION\n",
    "names_list = ['Monica','John','Ross','Joey']\n",
    "\n",
    "if len(names_list) > 3:\n",
    "    print(\"The room is crowded!\")\n",
    "    \n",
    "del names_list[2:4]\n",
    "\n",
    "if len(names_list) > 3:\n",
    "    print(\"The room is crowded!\")\n"
   ]
  },
  {
   "cell_type": "markdown",
   "metadata": {},
   "source": [
    "#### Three is a Crowd - Part 2\n",
    "- Save your program from *Three is a Crowd* under a new name.\n",
    "- Add an `else` statement to your if tests. If the `else` statement is run, have it print a message that the room is not very crowded."
   ]
  },
  {
   "cell_type": "code",
   "execution_count": 24,
   "metadata": {},
   "outputs": [
    {
     "name": "stdout",
     "output_type": "stream",
     "text": [
      "not crowded\n"
     ]
    }
   ],
   "source": [
    "def check(names):\n",
    "    if len(names) > 3:\n",
    "        print(\"croeded_!\")\n",
    "    else:\n",
    "        print(\"not crowded\")\n",
    "        \n",
    "names1=['ram','sham']  \n",
    "check(names1)"
   ]
  },
  {
   "cell_type": "code",
   "execution_count": null,
   "metadata": {
    "collapsed": true
   },
   "outputs": [],
   "source": [
    "#solution\n",
    "#bonus - three is a crowd\n",
    "names_list = ['Monica','John','Ross','Joey']\n",
    "\n",
    "def crowd_test(list_name):\n",
    "    if len(names_list) >3:\n",
    "        print (\"The room is crowded!\")\n",
    "    \n",
    "crowd_test(names_list)\n",
    "\n",
    "\n",
    "# Three is a crowd - part 2\n",
    "names_list = ['Monica','John','Ross','Joey']\n",
    "\n",
    "if len(names_list) < 3:\n",
    "    print(\"The room is crowded!\")\n",
    "    \n",
    "else:\n",
    "    print (\"The room is not very crowded\")\n",
    "    \n",
    "del names_list[2:4]\n",
    "\n",
    "if len(names_list) > 3:\n",
    "    print(\"The room is crowded!\")"
   ]
  },
  {
   "cell_type": "markdown",
   "metadata": {},
   "source": [
    "#### Six is a Mob\n",
    "- Save your program from *Three is a Crowd - Part 2* under a new name.\n",
    "- Add some names to your list, so that there are at least six people in the list.\n",
    "- Modify your tests so that\n",
    "    - If there are more than 5 people, a message is printed about there being a mob in the room.\n",
    "    - If there are 3-5 people, a message is printed about the room being crowded.\n",
    "    - If there are 1 or 2 people, a message is printed about the room not being crowded.\n",
    "    - If there are no people in the room, a message is printed abou the room being empty."
   ]
  },
  {
   "cell_type": "code",
   "execution_count": 28,
   "metadata": {},
   "outputs": [
    {
     "name": "stdout",
     "output_type": "stream",
     "text": [
      " crowded\n",
      "no crowd\n",
      "empty\n"
     ]
    }
   ],
   "source": [
    "def check(names):\n",
    "    if len(names) > 5:\n",
    "        print(\"mob\")\n",
    "    elif len(names) >3:\n",
    "        print(\" crowded\")\n",
    "    elif len(names)>1:\n",
    "        print(\"no crowd\")\n",
    "    else:\n",
    "        print(\"empty\")\n",
    "    \n",
    "n1=['ram','sham','nam','tyam']\n",
    "n2=['ram','tyam']\n",
    "n3=[]\n",
    "check(n1)\n",
    "check(n2)\n",
    "check(n3)"
   ]
  },
  {
   "cell_type": "code",
   "execution_count": 20,
   "metadata": {},
   "outputs": [
    {
     "name": "stdout",
     "output_type": "stream",
     "text": [
      "There is a mob in the room!\n",
      "The room is crowded\n",
      "The room is not crowded\n",
      "The room is empty\n",
      "OK\n",
      "OK\n"
     ]
    }
   ],
   "source": [
    "#solution\n",
    "#six is a mob\n",
    "names_list = ['Monica','John','Ross','Joey','Chandler','Phoebe']\n",
    "\n",
    "if len(names_list) > 5 :\n",
    "    print(\"There is a mob in the room!\")\n",
    "\n",
    "del names_list[4:5]\n",
    "\n",
    "if len(names_list) >=3  <= 5:\n",
    "    print(\"The room is crowded\")\n",
    "    \n",
    "del names_list[2:6]\n",
    "\n",
    "if len(names_list)>=1 <= 2:\n",
    "    print(\"The room is not crowded\")\n",
    "    \n",
    "del names_list[0:6]\n",
    "\n",
    "if len(names_list) ==0:\n",
    "    print(\"The room is empty\")\n",
    "    \n",
    "x=10    \n",
    "if x>1 & x<11:\n",
    "    print(\"OK\")\n",
    "\n",
    "if x>1 and x<11:\n",
    "    print(\"OK\")"
   ]
  }
 ],
 "metadata": {
  "anaconda-cloud": {},
  "kernelspec": {
   "display_name": "Python 3",
   "language": "python",
   "name": "python3"
  },
  "language_info": {
   "codemirror_mode": {
    "name": "ipython",
    "version": 3
   },
   "file_extension": ".py",
   "mimetype": "text/x-python",
   "name": "python",
   "nbconvert_exporter": "python",
   "pygments_lexer": "ipython3",
   "version": "3.7.4"
  },
  "toc": {
   "base_numbering": 1,
   "nav_menu": {},
   "number_sections": true,
   "sideBar": true,
   "skip_h1_title": false,
   "title_cell": "Table of Contents",
   "title_sidebar": "Contents",
   "toc_cell": false,
   "toc_position": {},
   "toc_section_display": true,
   "toc_window_display": false
  }
 },
 "nbformat": 4,
 "nbformat_minor": 1
}
