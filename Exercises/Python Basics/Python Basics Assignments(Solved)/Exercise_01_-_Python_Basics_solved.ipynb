{
 "cells": [
  {
   "cell_type": "markdown",
   "metadata": {},
   "source": [
    "# Python Basics 01\n",
    "## Exercise 01\n",
    "\n",
    "#### Variables\n",
    "\n",
    "###### Hello World - variable\n",
    "\n",
    "    Store your own version of the message \"Hello World\" in a variable, and print it.\n",
    "\n",
    "###### One Variable, Two Messages:\n",
    "\n",
    "    Store a message in a variable, and then print that message.\n",
    "    Store a new message in the same variable, and then print that new message.\n",
    "\n",
    "###### First Name Cases\n",
    "\n",
    "    Store your first name, in lowercase, in a variable.\n",
    "    Using that one variable, print your name in lowercase, Titlecase, and UPPERCASE.\n",
    "\n",
    "###### About This Person\n",
    "\n",
    "    Choose a person you look up to. Store their first and last names in separate variables.\n",
    "    Use concatenation to make a sentence about this person, and store that sentence in a variable.-\n",
    "    Print the sentence.\n",
    "\n",
    "###### Name Strip\n",
    "\n",
    "    Store your first name in a variable, but include at least two kinds of whitespace on each side of your name.\n",
    "    Print your name as it is stored.\n",
    "    Print your name with whitespace stripped from the left side, then from the right side, then from both sides.\n",
    "    \n",
    "\n"
   ]
  },
  {
   "cell_type": "code",
   "execution_count": 15,
   "metadata": {},
   "outputs": [
    {
     "name": "stdout",
     "output_type": "stream",
     "text": [
      "ello World\n",
      "Hey\n",
      "yeh\n",
      "AAYUSH\n",
      "aayush\n",
      "Aayush\n",
      "eon musk is founder of tesla\n",
      "      Aayush       \n",
      "Aayush       \n",
      "      Aayush\n"
     ]
    }
   ],
   "source": [
    "#1\n",
    "var=\"ello World\"\n",
    "print(var)\n",
    "\n",
    "#2\n",
    "v1=\"Hey\"\n",
    "print(v1)\n",
    "v1=\"yeh\"\n",
    "print(v1)\n",
    "\n",
    "#3\n",
    "\n",
    "name=\"aayush\"\n",
    "print(name.upper())\n",
    "print(name.lower())\n",
    "print(name.title())\n",
    "\n",
    "#4\n",
    "first=\"eon\"\n",
    "last=\"musk\"\n",
    "sentance=first+\" \"+last+\" is founder of tesla\"\n",
    "print(sentance)\n",
    "\n",
    "\n",
    "#5\n",
    "name=\"      Aayush       \"\n",
    "print(name)\n",
    "print(name.lstrip())\n",
    "print(name.rstrip())\n"
   ]
  }
 ],
 "metadata": {
  "anaconda-cloud": {},
  "kernelspec": {
   "display_name": "Python 3",
   "language": "python",
   "name": "python3"
  },
  "language_info": {
   "codemirror_mode": {
    "name": "ipython",
    "version": 3
   },
   "file_extension": ".py",
   "mimetype": "text/x-python",
   "name": "python",
   "nbconvert_exporter": "python",
   "pygments_lexer": "ipython3",
   "version": "3.8.8"
  },
  "toc": {
   "base_numbering": 1,
   "nav_menu": {},
   "number_sections": true,
   "sideBar": true,
   "skip_h1_title": false,
   "title_cell": "Table of Contents",
   "title_sidebar": "Contents",
   "toc_cell": false,
   "toc_position": {},
   "toc_section_display": true,
   "toc_window_display": false
  }
 },
 "nbformat": 4,
 "nbformat_minor": 1
}
