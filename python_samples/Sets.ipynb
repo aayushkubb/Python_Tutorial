{
 "cells": [
  {
   "cell_type": "code",
   "execution_count": null,
   "metadata": {},
   "outputs": [],
   "source": [
    "# Sets\n",
    "\n",
    "- Collection of elements with different data types \n",
    "- Collection unique elements\n",
    "- Indexing can not  be performed in set\n",
    "- Sets follow order "
   ]
  },
  {
   "cell_type": "code",
   "execution_count": null,
   "metadata": {},
   "outputs": [],
   "source": [
    "- sets can be built using `set() and {  } `"
   ]
  },
  {
   "cell_type": "code",
   "execution_count": 1,
   "metadata": {},
   "outputs": [
    {
     "data": {
      "text/plain": [
       "{'AI', 'Data Science', 'Machine Learning', 'Statistics'}"
      ]
     },
     "execution_count": 1,
     "metadata": {},
     "output_type": "execute_result"
    }
   ],
   "source": [
    "# note the double round-brackets while passing more than one value\n",
    "\n",
    "myset1 = set(['Data Science','AI','Machine Learning','Statistics'])\n",
    "myset1"
   ]
  },
  {
   "cell_type": "code",
   "execution_count": 2,
   "metadata": {},
   "outputs": [
    {
     "data": {
      "text/plain": [
       "{False, 1, 2, 5, 10, 55, 60, 80}"
      ]
     },
     "execution_count": 2,
     "metadata": {},
     "output_type": "execute_result"
    }
   ],
   "source": [
    "A = {1,1,1,2,2,5,10,5,80,80,55,55,60,True, False,0}\n",
    "A"
   ]
  },
  {
   "cell_type": "code",
   "execution_count": 3,
   "metadata": {},
   "outputs": [
    {
     "data": {
      "text/plain": [
       "set"
      ]
     },
     "execution_count": 3,
     "metadata": {},
     "output_type": "execute_result"
    }
   ],
   "source": [
    "type(A)"
   ]
  },
  {
   "cell_type": "code",
   "execution_count": 4,
   "metadata": {},
   "outputs": [
    {
     "data": {
      "text/plain": [
       "8"
      ]
     },
     "execution_count": 4,
     "metadata": {},
     "output_type": "execute_result"
    }
   ],
   "source": [
    "len(A)"
   ]
  },
  {
   "cell_type": "code",
   "execution_count": null,
   "metadata": {},
   "outputs": [],
   "source": [
    "# Indexing "
   ]
  },
  {
   "cell_type": "code",
   "execution_count": 5,
   "metadata": {
    "scrolled": true
   },
   "outputs": [
    {
     "ename": "TypeError",
     "evalue": "'set' object does not support indexing",
     "output_type": "error",
     "traceback": [
      "\u001b[1;31m---------------------------------------------------------------------------\u001b[0m",
      "\u001b[1;31mTypeError\u001b[0m                                 Traceback (most recent call last)",
      "\u001b[1;32m<ipython-input-5-782c0e2fe61c>\u001b[0m in \u001b[0;36m<module>\u001b[1;34m\u001b[0m\n\u001b[1;32m----> 1\u001b[1;33m \u001b[0mA\u001b[0m\u001b[1;33m[\u001b[0m\u001b[1;36m0\u001b[0m\u001b[1;33m]\u001b[0m\u001b[1;33m\u001b[0m\u001b[1;33m\u001b[0m\u001b[0m\n\u001b[0m",
      "\u001b[1;31mTypeError\u001b[0m: 'set' object does not support indexing"
     ]
    }
   ],
   "source": [
    "A[0]"
   ]
  },
  {
   "cell_type": "code",
   "execution_count": 6,
   "metadata": {},
   "outputs": [
    {
     "data": {
      "text/plain": [
       "{1, 2, 3, 'Innomatics', 'Technology'}"
      ]
     },
     "execution_count": 6,
     "metadata": {},
     "output_type": "execute_result"
    }
   ],
   "source": [
    "B = {'Innomatics','Technology',1,2,3,3}\n",
    "B"
   ]
  },
  {
   "cell_type": "code",
   "execution_count": 7,
   "metadata": {},
   "outputs": [
    {
     "data": {
      "text/plain": [
       "set"
      ]
     },
     "execution_count": 7,
     "metadata": {},
     "output_type": "execute_result"
    }
   ],
   "source": [
    "type(B)"
   ]
  },
  {
   "cell_type": "code",
   "execution_count": 8,
   "metadata": {},
   "outputs": [
    {
     "data": {
      "text/plain": [
       "5"
      ]
     },
     "execution_count": 8,
     "metadata": {},
     "output_type": "execute_result"
    }
   ],
   "source": [
    "len(B)"
   ]
  },
  {
   "cell_type": "markdown",
   "metadata": {},
   "source": [
    "# Methods in Sets"
   ]
  },
  {
   "cell_type": "markdown",
   "metadata": {},
   "source": [
    "> - ## Add a item"
   ]
  },
  {
   "cell_type": "code",
   "execution_count": 10,
   "metadata": {
    "scrolled": true
   },
   "outputs": [
    {
     "data": {
      "text/plain": [
       "{1, 2, 3, 5, 'Innomatics', 'Technology'}"
      ]
     },
     "execution_count": 10,
     "metadata": {},
     "output_type": "execute_result"
    }
   ],
   "source": [
    "B.add(5)\n",
    "B"
   ]
  },
  {
   "cell_type": "code",
   "execution_count": 11,
   "metadata": {},
   "outputs": [
    {
     "data": {
      "text/plain": [
       "{0, 1, 2, 3, 5, 'Innomatics', 'Technology'}"
      ]
     },
     "execution_count": 11,
     "metadata": {},
     "output_type": "execute_result"
    }
   ],
   "source": [
    "B.add(0)\n",
    "B"
   ]
  },
  {
   "cell_type": "code",
   "execution_count": 12,
   "metadata": {},
   "outputs": [
    {
     "data": {
      "text/plain": [
       "{0, 1, 2, 3, 5, 'Hub', 'Innomatics', 'Technology'}"
      ]
     },
     "execution_count": 12,
     "metadata": {},
     "output_type": "execute_result"
    }
   ],
   "source": [
    "B.add('Hub')\n",
    "B"
   ]
  },
  {
   "cell_type": "code",
   "execution_count": 13,
   "metadata": {},
   "outputs": [],
   "source": [
    "B.add('ZERO')"
   ]
  },
  {
   "cell_type": "code",
   "execution_count": 14,
   "metadata": {},
   "outputs": [
    {
     "data": {
      "text/plain": [
       "{0, 1, 2, 3, 5, 'Hub', 'Innomatics', 'Technology', 'ZERO'}"
      ]
     },
     "execution_count": 14,
     "metadata": {},
     "output_type": "execute_result"
    }
   ],
   "source": [
    "B"
   ]
  },
  {
   "cell_type": "markdown",
   "metadata": {},
   "source": [
    "> - ## Discard a item"
   ]
  },
  {
   "cell_type": "code",
   "execution_count": 15,
   "metadata": {},
   "outputs": [
    {
     "data": {
      "text/plain": [
       "{0, 1, 2, 3, 'Hub', 'Innomatics', 'Technology', 'ZERO'}"
      ]
     },
     "execution_count": 15,
     "metadata": {},
     "output_type": "execute_result"
    }
   ],
   "source": [
    "B.discard(5)\n",
    "B"
   ]
  },
  {
   "cell_type": "markdown",
   "metadata": {},
   "source": [
    "> ## .Difference"
   ]
  },
  {
   "cell_type": "code",
   "execution_count": 16,
   "metadata": {},
   "outputs": [
    {
     "data": {
      "text/plain": [
       "{False, 1, 2, 5, 10, 55, 60, 80}"
      ]
     },
     "execution_count": 16,
     "metadata": {},
     "output_type": "execute_result"
    }
   ],
   "source": [
    "A"
   ]
  },
  {
   "cell_type": "code",
   "execution_count": 17,
   "metadata": {},
   "outputs": [
    {
     "data": {
      "text/plain": [
       "{0, 1, 2, 3, 'Hub', 'Innomatics', 'Technology', 'ZERO'}"
      ]
     },
     "execution_count": 17,
     "metadata": {},
     "output_type": "execute_result"
    }
   ],
   "source": [
    "B"
   ]
  },
  {
   "cell_type": "code",
   "execution_count": 18,
   "metadata": {
    "scrolled": true
   },
   "outputs": [
    {
     "data": {
      "text/plain": [
       "{5, 10, 55, 60, 80}"
      ]
     },
     "execution_count": 18,
     "metadata": {},
     "output_type": "execute_result"
    }
   ],
   "source": [
    "A.difference(B)"
   ]
  },
  {
   "cell_type": "code",
   "execution_count": 19,
   "metadata": {},
   "outputs": [
    {
     "data": {
      "text/plain": [
       "{5, 10, 55, 60, 80}"
      ]
     },
     "execution_count": 19,
     "metadata": {},
     "output_type": "execute_result"
    }
   ],
   "source": [
    "\n",
    "A - B"
   ]
  },
  {
   "cell_type": "markdown",
   "metadata": {},
   "source": [
    "## Common elements in both set A, B: A intersection B"
   ]
  },
  {
   "cell_type": "code",
   "execution_count": 20,
   "metadata": {},
   "outputs": [
    {
     "data": {
      "text/plain": [
       "{False, 1, 2, 5, 10, 55, 60, 80}"
      ]
     },
     "execution_count": 20,
     "metadata": {},
     "output_type": "execute_result"
    }
   ],
   "source": [
    "A"
   ]
  },
  {
   "cell_type": "code",
   "execution_count": 30,
   "metadata": {},
   "outputs": [
    {
     "data": {
      "text/plain": [
       "{1, 2, 3, 'Hub', 'Innomatics', 'Technology'}"
      ]
     },
     "execution_count": 30,
     "metadata": {},
     "output_type": "execute_result"
    }
   ],
   "source": [
    "B"
   ]
  },
  {
   "cell_type": "code",
   "execution_count": 22,
   "metadata": {},
   "outputs": [
    {
     "data": {
      "text/plain": [
       "{0, 1, 2}"
      ]
     },
     "execution_count": 22,
     "metadata": {},
     "output_type": "execute_result"
    }
   ],
   "source": [
    "\n",
    "A.intersection(B)"
   ]
  },
  {
   "cell_type": "markdown",
   "metadata": {},
   "source": [
    "> ## Symmetric Difference "
   ]
  },
  {
   "cell_type": "code",
   "execution_count": 23,
   "metadata": {},
   "outputs": [
    {
     "data": {
      "text/plain": [
       "{10, 3, 5, 55, 60, 80, 'Hub', 'Innomatics', 'Technology', 'ZERO'}"
      ]
     },
     "execution_count": 23,
     "metadata": {},
     "output_type": "execute_result"
    }
   ],
   "source": [
    "A.symmetric_difference(B)"
   ]
  },
  {
   "cell_type": "markdown",
   "metadata": {},
   "source": [
    "## Elements present in B not in A : B-A"
   ]
  },
  {
   "cell_type": "code",
   "execution_count": 24,
   "metadata": {},
   "outputs": [
    {
     "data": {
      "text/plain": [
       "{3, 'Hub', 'Innomatics', 'Technology', 'ZERO'}"
      ]
     },
     "execution_count": 24,
     "metadata": {},
     "output_type": "execute_result"
    }
   ],
   "source": [
    "B.difference(A)"
   ]
  },
  {
   "cell_type": "code",
   "execution_count": 25,
   "metadata": {},
   "outputs": [
    {
     "data": {
      "text/plain": [
       "{3, 'Hub', 'Innomatics', 'Technology', 'ZERO'}"
      ]
     },
     "execution_count": 25,
     "metadata": {},
     "output_type": "execute_result"
    }
   ],
   "source": [
    "B - A"
   ]
  },
  {
   "cell_type": "markdown",
   "metadata": {},
   "source": [
    "> ## Union "
   ]
  },
  {
   "cell_type": "code",
   "execution_count": 26,
   "metadata": {},
   "outputs": [
    {
     "data": {
      "text/plain": [
       "{1, 10, 2, 3, 5, 55, 60, 80, False, 'Hub', 'Innomatics', 'Technology', 'ZERO'}"
      ]
     },
     "execution_count": 26,
     "metadata": {},
     "output_type": "execute_result"
    }
   ],
   "source": [
    "A.union(B)"
   ]
  },
  {
   "cell_type": "markdown",
   "metadata": {},
   "source": [
    "> ## Pop and Remove"
   ]
  },
  {
   "cell_type": "code",
   "execution_count": 31,
   "metadata": {},
   "outputs": [
    {
     "data": {
      "text/plain": [
       "{1, 2, 3, 'Hub', 'Innomatics', 'Technology'}"
      ]
     },
     "execution_count": 31,
     "metadata": {},
     "output_type": "execute_result"
    }
   ],
   "source": [
    "B"
   ]
  },
  {
   "cell_type": "code",
   "execution_count": 32,
   "metadata": {},
   "outputs": [
    {
     "data": {
      "text/plain": [
       "{2, 3, 'Hub', 'Innomatics', 'Technology'}"
      ]
     },
     "execution_count": 32,
     "metadata": {},
     "output_type": "execute_result"
    }
   ],
   "source": [
    "B.pop()  # Starting of the Item in a set beacause it follows the order\n",
    "B"
   ]
  },
  {
   "cell_type": "code",
   "execution_count": 34,
   "metadata": {},
   "outputs": [
    {
     "data": {
      "text/plain": [
       "{2, 3, 'Innomatics', 'Technology'}"
      ]
     },
     "execution_count": 34,
     "metadata": {},
     "output_type": "execute_result"
    }
   ],
   "source": [
    "B.remove('Hub')\n",
    "B"
   ]
  },
  {
   "cell_type": "markdown",
   "metadata": {},
   "source": [
    "# Assignment "
   ]
  },
  {
   "cell_type": "code",
   "execution_count": 36,
   "metadata": {},
   "outputs": [
    {
     "data": {
      "text/plain": [
       "'\\nIt all started with ABC, a wonderful teaching language that I had \\nhelped create in the early eighties. It was an incredibly elegant and powerful language, \\naimed at non-professional programmers. \\nDespite all its elegance and power and the availability of a free implementation, \\nABC never became popular in the Unix/C world. I can only speculate about the reasons, \\nbut here\\'s a likely one: the difficulty of adding new \"primitive\" operations to ABC. \\nIt was a monolithic, \"closed system\", with only the most basic I/O operations:\\nread a string from the console, write a string to the console.\\nI decided not repeat this mistake in Python.\\n'"
      ]
     },
     "execution_count": 36,
     "metadata": {},
     "output_type": "execute_result"
    }
   ],
   "source": [
    "#\n",
    "para1 = \"\"\"\n",
    "It all started with ABC, a wonderful teaching language that I had \n",
    "helped create in the early eighties. It was an incredibly elegant and powerful language, \n",
    "aimed at non-professional programmers. \n",
    "Despite all its elegance and power and the availability of a free implementation, \n",
    "ABC never became popular in the Unix/C world. I can only speculate about the reasons, \n",
    "but here's a likely one: the difficulty of adding new \"primitive\" operations to ABC. \n",
    "It was a monolithic, \"closed system\", with only the most basic I/O operations:\n",
    "read a string from the console, write a string to the console.\n",
    "I decided not repeat this mistake in Python.\n",
    "\"\"\"\n",
    "\n",
    "para1\n"
   ]
  },
  {
   "cell_type": "code",
   "execution_count": 37,
   "metadata": {},
   "outputs": [
    {
     "data": {
      "text/plain": [
       "'\\nBesides this intention, I had a number of other ideas for improvement over ABC, \\nand was eager to try them out. For instance, \\nABC\\'s powerful data types turned out to be less efficient than we hoped. \\nThere was too much emphasis on theoretically optimal algorithms, \\nand not enough tuning for common cases. I also felt that some of ABC\\'s features, \\naimed at novice programmers, were less desirable for the (then!) \\nintended audience of experienced Unix/C programmers. For instance: \\nABC\\'s ideosyncratic syntax (all uppercase keywords!); \\nsome terminology (e.g. \"how-to\" instead of \"procedure\"); \\nand the integrated structured editor, which its users almost universally hated. \\nPython would rely more on the Unix infrastructure and conventions, without being Unix-bound. \\nAnd in fact, the first implementation was done on a Mac.\\n'"
      ]
     },
     "execution_count": 37,
     "metadata": {},
     "output_type": "execute_result"
    }
   ],
   "source": [
    "para2 = \"\"\"\n",
    "Besides this intention, I had a number of other ideas for improvement over ABC, \n",
    "and was eager to try them out. For instance, \n",
    "ABC's powerful data types turned out to be less efficient than we hoped. \n",
    "There was too much emphasis on theoretically optimal algorithms, \n",
    "and not enough tuning for common cases. I also felt that some of ABC's features, \n",
    "aimed at novice programmers, were less desirable for the (then!) \n",
    "intended audience of experienced Unix/C programmers. For instance: \n",
    "ABC's ideosyncratic syntax (all uppercase keywords!); \n",
    "some terminology (e.g. \"how-to\" instead of \"procedure\"); \n",
    "and the integrated structured editor, which its users almost universally hated. \n",
    "Python would rely more on the Unix infrastructure and conventions, without being Unix-bound. \n",
    "And in fact, the first implementation was done on a Mac.\n",
    "\"\"\"\n",
    "\n",
    "para2"
   ]
  },
  {
   "cell_type": "markdown",
   "metadata": {},
   "source": [
    " # Assigment:\n",
    " \n",
    " - Need unique words from both para1 and para2 \n",
    " - Common words from both paras \n",
    " - Unique elements Present in para 1 and Not in Para 2 and Vice Versa \n",
    " - Length of Each para 1 and para 2 \n",
    " - Un Common elements in the Both para1 and para 2 \n",
    " "
   ]
  },
  {
   "cell_type": "code",
   "execution_count": 38,
   "metadata": {},
   "outputs": [
    {
     "data": {
      "text/plain": [
       "'\\nIt all started with ABC, a wonderful teaching language that I had \\nhelped create in the early eighties. It was an incredibly elegant and powerful language, \\naimed at non-professional programmers. \\nDespite all its elegance and power and the availability of a free implementation, \\nABC never became popular in the Unix/C world. I can only speculate about the reasons, \\nbut here\\'s a likely one: the difficulty of adding new \"primitive\" operations to ABC. \\nIt was a monolithic, \"closed system\", with only the most basic I/O operations:\\nread a string from the console, write a string to the console.\\nI decided not repeat this mistake in Python.\\n'"
      ]
     },
     "execution_count": 38,
     "metadata": {},
     "output_type": "execute_result"
    }
   ],
   "source": [
    "para1"
   ]
  },
  {
   "cell_type": "code",
   "execution_count": 39,
   "metadata": {},
   "outputs": [
    {
     "data": {
      "text/plain": [
       "'\\nBesides this intention, I had a number of other ideas for improvement over ABC, \\nand was eager to try them out. For instance, \\nABC\\'s powerful data types turned out to be less efficient than we hoped. \\nThere was too much emphasis on theoretically optimal algorithms, \\nand not enough tuning for common cases. I also felt that some of ABC\\'s features, \\naimed at novice programmers, were less desirable for the (then!) \\nintended audience of experienced Unix/C programmers. For instance: \\nABC\\'s ideosyncratic syntax (all uppercase keywords!); \\nsome terminology (e.g. \"how-to\" instead of \"procedure\"); \\nand the integrated structured editor, which its users almost universally hated. \\nPython would rely more on the Unix infrastructure and conventions, without being Unix-bound. \\nAnd in fact, the first implementation was done on a Mac.\\n'"
      ]
     },
     "execution_count": 39,
     "metadata": {},
     "output_type": "execute_result"
    }
   ],
   "source": [
    "para2"
   ]
  },
  {
   "cell_type": "markdown",
   "metadata": {},
   "source": [
    "- Find unqiue words in para1\n",
    "- find unique words in para2\n",
    "- find lexical diversity of para1\n",
    "- find lexical diversity of para2\n",
    "- find common wordsin para1 and para2\n",
    "- find words in para1 that not present in para2\n",
    "- find words in para2 that not present para1\n",
    "- list of all words in para1 and para2"
   ]
  },
  {
   "cell_type": "code",
   "execution_count": 40,
   "metadata": {},
   "outputs": [
    {
     "name": "stdout",
     "output_type": "stream",
     "text": [
      "it all started with abc a wonderful teaching language that i had helped create in the early eighties it was an incredibly elegant and powerful language aimed at non-professional programmers despite all its elegance and power and the availability of a free implementation abc never became popular in the unixc world i can only speculate about the reasons but here's a likely one the difficulty of adding new primitive operations to abc it was a monolithic closed system with only the most basic io operationsread a string from the console write a string to the consolei decided not repeat this mistake in python\n",
      "besides this intention i had a number of other ideas for improvement over abc and was eager to try them out for instance abc's powerful data types turned out to be less efficient than we hoped there was too much emphasis on theoretically optimal algorithms and not enough tuning for common cases i also felt that some of abc's features aimed at novice programmers were less desirable for the (then!) intended audience of experienced unixc programmers for instance abc's ideosyncratic syntax (all uppercase keywords!); some terminology (eg how-to instead of procedure); and the integrated structured editor which its users almost universally hated python would rely more on the unix infrastructure and conventions without being unix-bound and in fact the first implementation was done on a mac\n"
     ]
    }
   ],
   "source": [
    "# REMOVING \\n\n",
    "text1 = para1.lower()\n",
    "text1 = text1.replace('\\n','')\n",
    "text1 = text1.replace(',','')\n",
    "text1 = text1.replace(':','')\n",
    "text1 = text1.replace('\"','')\n",
    "text1 = text1.replace('.','')\n",
    "text1 = text1.replace('/','')\n",
    "print(text1)\n",
    "\n",
    "# REMOVING \\n\n",
    "text2 = para2.lower()\n",
    "text2 = text2.replace('\\n','')\n",
    "text2 = text2.replace(',','')\n",
    "text2 = text2.replace(':','')\n",
    "text2 = text2.replace('\"','')\n",
    "text2 = text2.replace('.','')\n",
    "text2 = text2.replace('/','')\n",
    "print(text2)"
   ]
  },
  {
   "cell_type": "code",
   "execution_count": 41,
   "metadata": {},
   "outputs": [
    {
     "name": "stdout",
     "output_type": "stream",
     "text": [
      "['it', 'all', 'started', 'with', 'abc', 'a', 'wonderful', 'teaching', 'language', 'that', 'i', 'had', 'helped', 'create', 'in', 'the', 'early', 'eighties', 'it', 'was', 'an', 'incredibly', 'elegant', 'and', 'powerful', 'language', 'aimed', 'at', 'non-professional', 'programmers', 'despite', 'all', 'its', 'elegance', 'and', 'power', 'and', 'the', 'availability', 'of', 'a', 'free', 'implementation', 'abc', 'never', 'became', 'popular', 'in', 'the', 'unixc', 'world', 'i', 'can', 'only', 'speculate', 'about', 'the', 'reasons', 'but', \"here's\", 'a', 'likely', 'one', 'the', 'difficulty', 'of', 'adding', 'new', 'primitive', 'operations', 'to', 'abc', 'it', 'was', 'a', 'monolithic', 'closed', 'system', 'with', 'only', 'the', 'most', 'basic', 'io', 'operationsread', 'a', 'string', 'from', 'the', 'console', 'write', 'a', 'string', 'to', 'the', 'consolei', 'decided', 'not', 'repeat', 'this', 'mistake', 'in', 'python']\n"
     ]
    }
   ],
   "source": [
    "#Find unqiue words in para1\n",
    "words1 = text1.split() \n",
    "print(words1)\n"
   ]
  },
  {
   "cell_type": "code",
   "execution_count": 42,
   "metadata": {},
   "outputs": [
    {
     "data": {
      "text/plain": [
       "list"
      ]
     },
     "execution_count": 42,
     "metadata": {},
     "output_type": "execute_result"
    }
   ],
   "source": [
    "type(words1)\n"
   ]
  },
  {
   "cell_type": "code",
   "execution_count": 43,
   "metadata": {},
   "outputs": [
    {
     "data": {
      "text/plain": [
       "103"
      ]
     },
     "execution_count": 43,
     "metadata": {},
     "output_type": "execute_result"
    }
   ],
   "source": [
    "len(words1)"
   ]
  },
  {
   "cell_type": "code",
   "execution_count": 46,
   "metadata": {},
   "outputs": [
    {
     "name": "stdout",
     "output_type": "stream",
     "text": [
      "{'teaching', 'new', 'string', 'powerful', 'its', 'this', 'basic', 'started', 'was', 'primitive', 'can', 'adding', 'of', 'one', 'difficulty', 'incredibly', 'availability', 'at', 'in', 'non-professional', 'power', 'became', 'world', 'only', 'aimed', 'monolithic', 'console', 'wonderful', 'but', 'had', 'all', 'decided', 'abc', 'never', 'most', 'reasons', 'repeat', 'that', 'popular', 'a', 'closed', 'free', 'with', 'i', 'programmers', 'eighties', 'about', \"here's\", 'io', 'consolei', 'not', 'mistake', 'helped', 'unixc', 'python', 'an', 'likely', 'to', 'elegant', 'implementation', 'write', 'operationsread', 'create', 'elegance', 'system', 'despite', 'the', 'operations', 'from', 'speculate', 'it', 'early', 'and', 'language'}\n"
     ]
    },
    {
     "data": {
      "text/plain": [
       "74"
      ]
     },
     "execution_count": 46,
     "metadata": {},
     "output_type": "execute_result"
    }
   ],
   "source": [
    "#list to set\n",
    "unq_words1 = set(words1)  #list to set\n",
    "print(unq_words1)\n",
    "len(unq_words1)"
   ]
  },
  {
   "cell_type": "code",
   "execution_count": 47,
   "metadata": {},
   "outputs": [
    {
     "name": "stdout",
     "output_type": "stream",
     "text": [
      "['besides', 'this', 'intention', 'i', 'had', 'a', 'number', 'of', 'other', 'ideas', 'for', 'improvement', 'over', 'abc', 'and', 'was', 'eager', 'to', 'try', 'them', 'out', 'for', 'instance', \"abc's\", 'powerful', 'data', 'types', 'turned', 'out', 'to', 'be', 'less', 'efficient', 'than', 'we', 'hoped', 'there', 'was', 'too', 'much', 'emphasis', 'on', 'theoretically', 'optimal', 'algorithms', 'and', 'not', 'enough', 'tuning', 'for', 'common', 'cases', 'i', 'also', 'felt', 'that', 'some', 'of', \"abc's\", 'features', 'aimed', 'at', 'novice', 'programmers', 'were', 'less', 'desirable', 'for', 'the', '(then!)', 'intended', 'audience', 'of', 'experienced', 'unixc', 'programmers', 'for', 'instance', \"abc's\", 'ideosyncratic', 'syntax', '(all', 'uppercase', 'keywords!);', 'some', 'terminology', '(eg', 'how-to', 'instead', 'of', 'procedure);', 'and', 'the', 'integrated', 'structured', 'editor', 'which', 'its', 'users', 'almost', 'universally', 'hated', 'python', 'would', 'rely', 'more', 'on', 'the', 'unix', 'infrastructure', 'and', 'conventions', 'without', 'being', 'unix-bound', 'and', 'in', 'fact', 'the', 'first', 'implementation', 'was', 'done', 'on', 'a', 'mac']\n"
     ]
    }
   ],
   "source": [
    "#Find unqiue words in para2\n",
    "words2 = text2.split()\n",
    "print(words2)"
   ]
  },
  {
   "cell_type": "code",
   "execution_count": 48,
   "metadata": {},
   "outputs": [
    {
     "data": {
      "text/plain": [
       "list"
      ]
     },
     "execution_count": 48,
     "metadata": {},
     "output_type": "execute_result"
    }
   ],
   "source": [
    "type(words2)"
   ]
  },
  {
   "cell_type": "code",
   "execution_count": 49,
   "metadata": {},
   "outputs": [
    {
     "data": {
      "text/plain": [
       "126"
      ]
     },
     "execution_count": 49,
     "metadata": {},
     "output_type": "execute_result"
    }
   ],
   "source": [
    "len((words2))"
   ]
  },
  {
   "cell_type": "code",
   "execution_count": 51,
   "metadata": {},
   "outputs": [
    {
     "name": "stdout",
     "output_type": "stream",
     "text": [
      "{'(then!)', 'powerful', 'desirable', 'efficient', 'out', 'over', 'number', 'enough', 'some', 'features', 'infrastructure', 'unix-bound', 'emphasis', 'for', 'a', 'novice', 'programmers', 'improvement', 'too', 'to', 'than', 'other', 'intended', 'this', 'ideosyncratic', 'procedure);', \"abc's\", 'unix', 'editor', 'done', 'also', 'fact', 'on', 'common', 'intention', 'aimed', 'ideas', 'there', 'hoped', 'structured', 'universally', 'felt', 'not', 'algorithms', 'python', 'besides', 'unixc', 'first', 'implementation', 'integrated', 'its', 'optimal', 'much', 'syntax', 'turned', 'them', 'instance', 'at', 'how-to', '(all', 'eager', 'abc', 'instead', 'terminology', 'almost', 'without', 'mac', 'were', 'users', 'less', 'experienced', '(eg', 'hated', 'conventions', 'and', 'data', 'keywords!);', 'we', 'was', 'of', 'being', 'types', 'more', 'in', 'audience', 'which', 'had', 'theoretically', 'that', 'rely', 'would', 'i', 'uppercase', 'tuning', 'the', 'be', 'cases', 'try'}\n"
     ]
    }
   ],
   "source": [
    "unq_words2 = set(words2)\n",
    "print(unq_words2)"
   ]
  },
  {
   "cell_type": "code",
   "execution_count": 52,
   "metadata": {},
   "outputs": [
    {
     "data": {
      "text/plain": [
       "98"
      ]
     },
     "execution_count": 52,
     "metadata": {},
     "output_type": "execute_result"
    }
   ],
   "source": [
    "len(unq_words2)"
   ]
  },
  {
   "cell_type": "code",
   "execution_count": 53,
   "metadata": {},
   "outputs": [
    {
     "data": {
      "text/plain": [
       "74"
      ]
     },
     "execution_count": 53,
     "metadata": {},
     "output_type": "execute_result"
    }
   ],
   "source": [
    "len(unq_words1)"
   ]
  },
  {
   "cell_type": "markdown",
   "metadata": {},
   "source": [
    "- find lexical diversity of para1\n",
    "- find lexical diversity of para2\n",
    "\n",
    "> Lexical Diversity = No. of words / No. of unique words"
   ]
  },
  {
   "cell_type": "code",
   "execution_count": 54,
   "metadata": {},
   "outputs": [
    {
     "name": "stdout",
     "output_type": "stream",
     "text": [
      "Lexical Diversity of para1 is :  1.3918918918918919\n"
     ]
    }
   ],
   "source": [
    "ld1 = len(words1)/len(unq_words1)\n",
    "print('Lexical Diversity of para1 is : ',ld1)"
   ]
  },
  {
   "cell_type": "code",
   "execution_count": 55,
   "metadata": {},
   "outputs": [
    {
     "name": "stdout",
     "output_type": "stream",
     "text": [
      "Lexical Diversity of para2 is :  1.2857142857142858\n"
     ]
    }
   ],
   "source": [
    "ld1 = len(words2)/len(unq_words2)\n",
    "print('Lexical Diversity of para2 is : ',ld1)"
   ]
  },
  {
   "cell_type": "markdown",
   "metadata": {},
   "source": [
    "- find common words in para1 and para2\n",
    "> intersection"
   ]
  },
  {
   "cell_type": "code",
   "execution_count": 56,
   "metadata": {},
   "outputs": [
    {
     "name": "stdout",
     "output_type": "stream",
     "text": [
      "Common words in para1 and para2 is : \n",
      "{'powerful', 'this', 'its', 'was', 'of', 'at', 'in', 'aimed', 'had', 'abc', 'that', 'a', 'programmers', 'i', 'not', 'python', 'unixc', 'to', 'implementation', 'the', 'and'}\n"
     ]
    }
   ],
   "source": [
    "print('Common words in para1 and para2 is : ')\n",
    "print(unq_words1.intersection(unq_words2)) # common words in para1 and para2"
   ]
  },
  {
   "cell_type": "code",
   "execution_count": 57,
   "metadata": {},
   "outputs": [
    {
     "name": "stdout",
     "output_type": "stream",
     "text": [
      "21\n"
     ]
    }
   ],
   "source": [
    "print(len(unq_words1.intersection(unq_words2))) # common words in para1 and para2"
   ]
  },
  {
   "cell_type": "code",
   "execution_count": 58,
   "metadata": {},
   "outputs": [
    {
     "name": "stdout",
     "output_type": "stream",
     "text": [
      "Words present in para1 but not in para2 : \n",
      "{'teaching', 'new', 'string', 'basic', 'started', 'primitive', 'can', 'adding', 'one', 'difficulty', 'incredibly', 'availability', 'power', 'non-professional', 'became', 'world', 'only', 'monolithic', 'console', 'wonderful', 'but', 'all', 'decided', 'never', 'most', 'repeat', 'reasons', 'popular', 'closed', 'free', 'with', 'mistake', 'eighties', 'about', \"here's\", 'io', 'consolei', 'helped', 'an', 'likely', 'elegant', 'write', 'operationsread', 'create', 'elegance', 'system', 'despite', 'from', 'operations', 'speculate', 'it', 'early', 'language'}\n"
     ]
    }
   ],
   "source": [
    "print('Words present in para1 but not in para2 : ')\n",
    "print(unq_words1 - unq_words2) # para1 - para2"
   ]
  },
  {
   "cell_type": "code",
   "execution_count": 59,
   "metadata": {},
   "outputs": [
    {
     "name": "stdout",
     "output_type": "stream",
     "text": [
      "Words present in para2 but not in para1 : \n",
      "{'(then!)', 'desirable', 'efficient', 'out', 'number', 'over', 'enough', 'some', 'infrastructure', 'features', 'unix-bound', 'emphasis', 'for', 'novice', 'improvement', 'too', 'than', 'other', 'intended', 'ideosyncratic', 'procedure);', \"abc's\", 'unix', 'editor', 'done', 'also', 'fact', 'on', 'common', 'intention', 'ideas', 'there', 'hoped', 'structured', 'universally', 'felt', 'algorithms', 'besides', 'first', 'integrated', 'optimal', 'much', 'syntax', 'turned', 'them', 'instance', 'how-to', '(all', 'eager', 'instead', 'terminology', 'almost', 'without', 'mac', 'were', 'users', 'less', 'experienced', '(eg', 'hated', 'conventions', 'data', 'keywords!);', 'we', 'being', 'types', 'more', 'audience', 'which', 'theoretically', 'rely', 'would', 'uppercase', 'tuning', 'be', 'cases', 'try'}\n"
     ]
    }
   ],
   "source": [
    "print('Words present in para2 but not in para1 : ')\n",
    "print(unq_words2 - unq_words1) # para2 - para1"
   ]
  },
  {
   "cell_type": "code",
   "execution_count": 61,
   "metadata": {},
   "outputs": [
    {
     "name": "stdout",
     "output_type": "stream",
     "text": [
      "list of all words in para1 and para2 : \n",
      "['(then!)', 'string', 'powerful', 'desirable', 'efficient', 'primitive', 'out', 'over', 'number', 'enough', 'became', 'some', 'features', 'infrastructure', 'unix-bound', 'emphasis', 'most', 'repeat', 'for', 'popular', 'a', 'closed', 'novice', 'with', 'programmers', 'improvement', \"here's\", 'helped', 'too', 'to', 'than', 'write', 'elegance', 'system', 'despite', 'speculate', 'other', 'early', 'language', 'intended', 'teaching', 'this', 'ideosyncratic', 'procedure);', \"abc's\", 'unix', 'editor', 'done', 'adding', 'also', 'fact', 'on', 'difficulty', 'incredibly', 'availability', 'common', 'power', 'intention', 'aimed', 'wonderful', 'ideas', 'there', 'decided', 'hoped', 'never', 'structured', 'universally', 'felt', 'not', 'eighties', 'algorithms', 'python', 'besides', 'unixc', 'first', 'implementation', 'create', 'it', 'new', 'integrated', 'its', 'basic', 'optimal', 'much', 'syntax', 'can', 'turned', 'them', 'at', 'instance', 'non-professional', 'only', 'how-to', 'console', '(all', 'eager', 'all', 'abc', 'instead', 'terminology', 'almost', 'without', 'free', 'mac', 'about', 'were', 'users', 'less', 'experienced', 'elegant', 'from', '(eg', 'operations', 'hated', 'conventions', 'and', 'data', 'keywords!);', 'we', 'started', 'was', 'of', 'being', 'one', 'types', 'in', 'world', 'more', 'audience', 'monolithic', 'but', 'which', 'had', 'theoretically', 'reasons', 'that', 'rely', 'would', 'i', 'mistake', 'uppercase', 'io', 'consolei', 'an', 'likely', 'operationsread', 'tuning', 'the', 'be', 'cases', 'try']\n"
     ]
    }
   ],
   "source": [
    "print('list of all words in para1 and para2 : ')\n",
    "print(list(unq_words1.union(unq_words2)))"
   ]
  },
  {
   "cell_type": "code",
   "execution_count": 62,
   "metadata": {},
   "outputs": [
    {
     "name": "stdout",
     "output_type": "stream",
     "text": [
      "list of uncommon words in para1 and para2 : \n",
      "['new', '(then!)', 'string', 'integrated', 'basic', 'desirable', 'efficient', 'optimal', 'much', 'out', 'syntax', 'primitive', 'can', 'turned', 'over', 'number', 'enough', 'them', 'instance', 'became', 'how-to', 'some', 'non-professional', 'only', 'console', '(all', 'features', 'infrastructure', 'eager', 'all', 'unix-bound', 'emphasis', 'instead', 'most', 'for', 'repeat', 'popular', 'closed', 'terminology', 'novice', 'almost', 'without', 'mac', 'free', 'with', 'improvement', 'were', 'users', 'about', 'less', 'experienced', \"here's\", 'helped', 'too', 'than', 'elegant', 'write', '(eg', 'elegance', 'system', 'despite', 'operations', 'from', 'hated', 'speculate', 'other', 'conventions', 'early', 'language', 'intended', 'data', 'keywords!);', 'teaching', 'ideosyncratic', 'procedure);', 'we', 'started', \"abc's\", 'unix', 'editor', 'done', 'also', 'fact', 'adding', 'on', 'being', 'one', 'difficulty', 'incredibly', 'common', 'types', 'availability', 'more', 'intention', 'power', 'audience', 'world', 'monolithic', 'wonderful', 'ideas', 'which', 'but', 'there', 'theoretically', 'decided', 'hoped', 'never', 'structured', 'universally', 'reasons', 'rely', 'would', 'felt', 'mistake', 'algorithms', 'eighties', 'uppercase', 'besides', 'io', 'consolei', 'first', 'an', 'likely', 'operationsread', 'create', 'tuning', 'be', 'it', 'cases', 'try']\n"
     ]
    }
   ],
   "source": [
    "print('list of uncommon words in para1 and para2 : ')\n",
    "print(list(unq_words1.symmetric_difference(unq_words2)))"
   ]
  },
  {
   "cell_type": "code",
   "execution_count": 63,
   "metadata": {},
   "outputs": [
    {
     "name": "stdout",
     "output_type": "stream",
     "text": [
      "130\n"
     ]
    }
   ],
   "source": [
    "print(len(list(unq_words1.symmetric_difference(unq_words2))))"
   ]
  },
  {
   "cell_type": "code",
   "execution_count": 64,
   "metadata": {},
   "outputs": [
    {
     "name": "stdout",
     "output_type": "stream",
     "text": [
      "53\n"
     ]
    }
   ],
   "source": [
    "print(len(list(unq_words1.difference(unq_words2))))"
   ]
  },
  {
   "cell_type": "code",
   "execution_count": 65,
   "metadata": {},
   "outputs": [
    {
     "name": "stdout",
     "output_type": "stream",
     "text": [
      "77\n"
     ]
    }
   ],
   "source": [
    "print(len(list(unq_words2.difference(unq_words1))))"
   ]
  },
  {
   "cell_type": "code",
   "execution_count": null,
   "metadata": {
    "collapsed": true
   },
   "outputs": [],
   "source": []
  }
 ],
 "metadata": {
  "kernelspec": {
   "display_name": "Python 3",
   "language": "python",
   "name": "python3"
  },
  "language_info": {
   "codemirror_mode": {
    "name": "ipython",
    "version": 3
   },
   "file_extension": ".py",
   "mimetype": "text/x-python",
   "name": "python",
   "nbconvert_exporter": "python",
   "pygments_lexer": "ipython3",
   "version": "3.8.8"
  }
 },
 "nbformat": 4,
 "nbformat_minor": 2
}
